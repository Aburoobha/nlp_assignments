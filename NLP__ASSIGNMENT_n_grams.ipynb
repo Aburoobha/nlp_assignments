{
  "nbformat": 4,
  "nbformat_minor": 0,
  "metadata": {
    "colab": {
      "provenance": []
    },
    "kernelspec": {
      "name": "python3",
      "display_name": "Python 3"
    },
    "language_info": {
      "name": "python"
    }
  },
  "cells": [
    {
      "cell_type": "markdown",
      "source": [
        "### Importing libraries"
      ],
      "metadata": {
        "id": "HiwiFBxPv7Nx"
      }
    },
    {
      "cell_type": "code",
      "execution_count": 2,
      "metadata": {
        "id": "SSTuG9ghBwzj"
      },
      "outputs": [],
      "source": [
        "import nltk\n",
        "from nltk import word_tokenize\n",
        "from nltk.util import ngrams\n",
        "from collections import Counter\n"
      ]
    },
    {
      "cell_type": "code",
      "source": [
        "nltk.download('punkt')"
      ],
      "metadata": {
        "colab": {
          "base_uri": "https://localhost:8080/"
        },
        "id": "UavbAvWPCkp6",
        "outputId": "729ba7a3-04bb-4858-f55c-ed401500cbe9"
      },
      "execution_count": 3,
      "outputs": [
        {
          "output_type": "stream",
          "name": "stderr",
          "text": [
            "[nltk_data] Downloading package punkt to /root/nltk_data...\n",
            "[nltk_data]   Unzipping tokenizers/punkt.zip.\n"
          ]
        },
        {
          "output_type": "execute_result",
          "data": {
            "text/plain": [
              "True"
            ]
          },
          "metadata": {},
          "execution_count": 3
        }
      ]
    },
    {
      "cell_type": "markdown",
      "source": [
        "### Corpus"
      ],
      "metadata": {
        "id": "2H49TrTKwa7u"
      }
    },
    {
      "cell_type": "code",
      "source": [
        "text = input(\"Enter the text sample:  \").strip()"
      ],
      "metadata": {
        "colab": {
          "base_uri": "https://localhost:8080/"
        },
        "id": "WaAMBYNBwGi2",
        "outputId": "1e38e945-d6bf-45aa-d294-7a70d6f9563d"
      },
      "execution_count": 5,
      "outputs": [
        {
          "name": "stdout",
          "output_type": "stream",
          "text": [
            "Enter the text sample:  I want to make the most of this cultural relevance or success or whatever you want to call it, because it's not going to last.\n"
          ]
        }
      ]
    },
    {
      "cell_type": "code",
      "source": [
        "# Tokenize the text into words\n",
        "token = word_tokenize(text.lower())\n",
        "print(token)"
      ],
      "metadata": {
        "colab": {
          "base_uri": "https://localhost:8080/"
        },
        "id": "F1Q1EMD0wKnU",
        "outputId": "27ccf7b7-92fd-4bd3-edda-7f6672f8ce5b"
      },
      "execution_count": 6,
      "outputs": [
        {
          "output_type": "stream",
          "name": "stdout",
          "text": [
            "['i', 'want', 'to', 'make', 'the', 'most', 'of', 'this', 'cultural', 'relevance', 'or', 'success', 'or', 'whatever', 'you', 'want', 'to', 'call', 'it', ',', 'because', 'it', \"'s\", 'not', 'going', 'to', 'last', '.']\n"
          ]
        }
      ]
    },
    {
      "cell_type": "markdown",
      "source": [
        "### 1. Unigrams"
      ],
      "metadata": {
        "id": "eismWzMPw3Pn"
      }
    },
    {
      "cell_type": "code",
      "source": [
        "unigram = list(ngrams(token, 1))\n",
        "print(\"Unigram:\", unigram)"
      ],
      "metadata": {
        "colab": {
          "base_uri": "https://localhost:8080/"
        },
        "id": "SNtt3Q5XwOeU",
        "outputId": "5d666d72-cb61-4535-ff6a-eab65b569f03"
      },
      "execution_count": 7,
      "outputs": [
        {
          "output_type": "stream",
          "name": "stdout",
          "text": [
            "Unigram: [('i',), ('want',), ('to',), ('make',), ('the',), ('most',), ('of',), ('this',), ('cultural',), ('relevance',), ('or',), ('success',), ('or',), ('whatever',), ('you',), ('want',), ('to',), ('call',), ('it',), (',',), ('because',), ('it',), (\"'s\",), ('not',), ('going',), ('to',), ('last',), ('.',)]\n"
          ]
        }
      ]
    },
    {
      "cell_type": "markdown",
      "source": [
        "### 2. Bigrams"
      ],
      "metadata": {
        "id": "-XdE6cP1w9dN"
      }
    },
    {
      "cell_type": "code",
      "source": [
        "bigram = list(ngrams(token, 2))\n",
        "print(\"Bigrams:\", list(bigram))"
      ],
      "metadata": {
        "colab": {
          "base_uri": "https://localhost:8080/"
        },
        "id": "zLg58KyZwyf_",
        "outputId": "c4f95572-a6a6-40f0-9914-6b4ce88bacd1"
      },
      "execution_count": 8,
      "outputs": [
        {
          "output_type": "stream",
          "name": "stdout",
          "text": [
            "Bigrams: [('i', 'want'), ('want', 'to'), ('to', 'make'), ('make', 'the'), ('the', 'most'), ('most', 'of'), ('of', 'this'), ('this', 'cultural'), ('cultural', 'relevance'), ('relevance', 'or'), ('or', 'success'), ('success', 'or'), ('or', 'whatever'), ('whatever', 'you'), ('you', 'want'), ('want', 'to'), ('to', 'call'), ('call', 'it'), ('it', ','), (',', 'because'), ('because', 'it'), ('it', \"'s\"), (\"'s\", 'not'), ('not', 'going'), ('going', 'to'), ('to', 'last'), ('last', '.')]\n"
          ]
        }
      ]
    },
    {
      "cell_type": "markdown",
      "source": [
        "### 3. Trigrams"
      ],
      "metadata": {
        "id": "EZSU3eF9xGZl"
      }
    },
    {
      "cell_type": "code",
      "source": [
        "trigram = list(ngrams(token, 3))\n",
        "print(\"Trigram:\", list(trigram))\n"
      ],
      "metadata": {
        "colab": {
          "base_uri": "https://localhost:8080/"
        },
        "id": "4gIQif4Zw0_c",
        "outputId": "ef982f1b-e011-4587-d88d-8985befbc749"
      },
      "execution_count": 9,
      "outputs": [
        {
          "output_type": "stream",
          "name": "stdout",
          "text": [
            "Trigram: [('i', 'want', 'to'), ('want', 'to', 'make'), ('to', 'make', 'the'), ('make', 'the', 'most'), ('the', 'most', 'of'), ('most', 'of', 'this'), ('of', 'this', 'cultural'), ('this', 'cultural', 'relevance'), ('cultural', 'relevance', 'or'), ('relevance', 'or', 'success'), ('or', 'success', 'or'), ('success', 'or', 'whatever'), ('or', 'whatever', 'you'), ('whatever', 'you', 'want'), ('you', 'want', 'to'), ('want', 'to', 'call'), ('to', 'call', 'it'), ('call', 'it', ','), ('it', ',', 'because'), (',', 'because', 'it'), ('because', 'it', \"'s\"), ('it', \"'s\", 'not'), (\"'s\", 'not', 'going'), ('not', 'going', 'to'), ('going', 'to', 'last'), ('to', 'last', '.')]\n"
          ]
        }
      ]
    },
    {
      "cell_type": "markdown",
      "source": [
        "### 4. Bigram Probabilities"
      ],
      "metadata": {
        "id": "rELc-Jam0Ba7"
      }
    },
    {
      "cell_type": "code",
      "source": [
        "b_count = Counter(bigram)\n",
        "total = len(bigram)\n",
        "b_probs = {}\n",
        "\n",
        "for bi, count in b_count.items():\n",
        "    f= bi[0]\n",
        "    prob = count / token.count(f)\n",
        "    b_probs[bi] = prob\n",
        "\n",
        "print(\"\\nBigram Probabilities:\")\n",
        "for b, prob in b_probs.items():\n",
        "    print(b, \":\", prob)"
      ],
      "metadata": {
        "colab": {
          "base_uri": "https://localhost:8080/"
        },
        "id": "J6Ud0tDewQtq",
        "outputId": "f0d7327b-f90c-43fd-e50a-3ed19b1cce82"
      },
      "execution_count": 10,
      "outputs": [
        {
          "output_type": "stream",
          "name": "stdout",
          "text": [
            "\n",
            "Bigram Probabilities:\n",
            "('i', 'want') : 1.0\n",
            "('want', 'to') : 1.0\n",
            "('to', 'make') : 0.3333333333333333\n",
            "('make', 'the') : 1.0\n",
            "('the', 'most') : 1.0\n",
            "('most', 'of') : 1.0\n",
            "('of', 'this') : 1.0\n",
            "('this', 'cultural') : 1.0\n",
            "('cultural', 'relevance') : 1.0\n",
            "('relevance', 'or') : 1.0\n",
            "('or', 'success') : 0.5\n",
            "('success', 'or') : 1.0\n",
            "('or', 'whatever') : 0.5\n",
            "('whatever', 'you') : 1.0\n",
            "('you', 'want') : 1.0\n",
            "('to', 'call') : 0.3333333333333333\n",
            "('call', 'it') : 1.0\n",
            "('it', ',') : 0.5\n",
            "(',', 'because') : 1.0\n",
            "('because', 'it') : 1.0\n",
            "('it', \"'s\") : 0.5\n",
            "(\"'s\", 'not') : 1.0\n",
            "('not', 'going') : 1.0\n",
            "('going', 'to') : 1.0\n",
            "('to', 'last') : 0.3333333333333333\n",
            "('last', '.') : 1.0\n"
          ]
        }
      ]
    },
    {
      "cell_type": "markdown",
      "source": [
        "### 5. Next Word Prediction"
      ],
      "metadata": {
        "id": "j8DAXJFe0ETG"
      }
    },
    {
      "cell_type": "code",
      "source": [
        "def next_word(prev_word, top_n=3):\n",
        "  psb= [b for b in b_count.keys() if b[0] == prev_word]\n",
        "  sorted_bs = sorted(psb, key=lambda b: b_probs[b], reverse=True)\n",
        "  return [b[1] for b in sorted_bs[:top_n]]\n",
        "prev_word = input(\"Enter the previous word: \").strip()\n",
        "pdt_word = next_word(prev_word)\n",
        "print(\"Next word prediction for '{}': {}\".format(prev_word, pdt_word))\n"
      ],
      "metadata": {
        "colab": {
          "base_uri": "https://localhost:8080/"
        },
        "id": "JYKdzShkwX3S",
        "outputId": "d982c623-62c7-491f-985d-ea0b08437657"
      },
      "execution_count": 11,
      "outputs": [
        {
          "output_type": "stream",
          "name": "stdout",
          "text": [
            "Enter the previous word: or\n",
            "Next word prediction for 'or': ['success', 'whatever']\n"
          ]
        }
      ]
    },
    {
      "cell_type": "code",
      "source": [],
      "metadata": {
        "id": "0FttGuE402Kz"
      },
      "execution_count": null,
      "outputs": []
    }
  ]
}