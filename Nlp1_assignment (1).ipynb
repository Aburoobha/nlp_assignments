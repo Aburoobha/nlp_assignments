{
  "nbformat": 4,
  "nbformat_minor": 0,
  "metadata": {
    "colab": {
      "provenance": []
    },
    "kernelspec": {
      "name": "python3",
      "display_name": "Python 3"
    },
    "language_info": {
      "name": "python"
    }
  },
  "cells": [
    {
      "cell_type": "markdown",
      "source": [
        "### Importing libraries"
      ],
      "metadata": {
        "id": "HiwiFBxPv7Nx"
      }
    },
    {
      "cell_type": "code",
      "source": [
        "nltk.download('punkt')"
      ],
      "metadata": {
        "colab": {
          "base_uri": "https://localhost:8080/"
        },
        "id": "UavbAvWPCkp6",
        "outputId": "0f087ac7-d2a4-4876-e5d1-7a9bc1c8b66f"
      },
      "execution_count": null,
      "outputs": [
        {
          "output_type": "stream",
          "name": "stderr",
          "text": [
            "[nltk_data] Downloading package punkt to /root/nltk_data...\n",
            "[nltk_data]   Package punkt is already up-to-date!\n"
          ]
        },
        {
          "output_type": "execute_result",
          "data": {
            "text/plain": [
              "True"
            ]
          },
          "metadata": {},
          "execution_count": 6
        }
      ]
    },
    {
      "cell_type": "code",
      "execution_count": null,
      "metadata": {
        "id": "SSTuG9ghBwzj"
      },
      "outputs": [],
      "source": [
        "import nltk\n",
        "from nltk import word_tokenize\n",
        "from nltk.util import ngrams\n",
        "from collections import Counter\n"
      ]
    },
    {
      "cell_type": "markdown",
      "source": [
        "### Corpus"
      ],
      "metadata": {
        "id": "2H49TrTKwa7u"
      }
    },
    {
      "cell_type": "code",
      "source": [
        "# Sample text corpus\n",
        "text = \"\"\"\n",
        "The quick brown fox jumps over the lazy dog.\n",
        "This is a sample text corpus for demonstration.\n",
        "It contains multiple sentences with different words.\n",
        "\"\"\"\n",
        "text = input(\"Enter the text sample\").strip()"
      ],
      "metadata": {
        "colab": {
          "base_uri": "https://localhost:8080/"
        },
        "id": "WaAMBYNBwGi2",
        "outputId": "991a5358-101e-4f54-8702-a8924c222b26"
      },
      "execution_count": null,
      "outputs": [
        {
          "name": "stdout",
          "output_type": "stream",
          "text": [
            "Enter the text sampleThe quick brown fox jumps over the lazy dog. This is a sample text corpus for demonstration. It contains multiple sentences with different words.\n"
          ]
        }
      ]
    },
    {
      "cell_type": "code",
      "source": [
        "# Tokenize the text into words\n",
        "token = word_tokenize(text.lower())\n",
        "print(token)"
      ],
      "metadata": {
        "colab": {
          "base_uri": "https://localhost:8080/"
        },
        "id": "F1Q1EMD0wKnU",
        "outputId": "099a94a8-b492-4307-c8be-ee86fce446c4"
      },
      "execution_count": null,
      "outputs": [
        {
          "output_type": "stream",
          "name": "stdout",
          "text": [
            "['the', 'quick', 'brown', 'fox', 'jumps', 'over', 'the', 'lazy', 'dog', '.', 'this', 'is', 'a', 'sample', 'text', 'corpus', 'for', 'demonstration', '.', 'it', 'contains', 'multiple', 'sentences', 'with', 'different', 'words', '.']\n"
          ]
        }
      ]
    },
    {
      "cell_type": "markdown",
      "source": [
        "### 1. Unigrams"
      ],
      "metadata": {
        "id": "eismWzMPw3Pn"
      }
    },
    {
      "cell_type": "code",
      "source": [
        "unigram = list(ngrams(token, 1))\n",
        "print(\"Unigram:\", unigram)"
      ],
      "metadata": {
        "colab": {
          "base_uri": "https://localhost:8080/"
        },
        "id": "SNtt3Q5XwOeU",
        "outputId": "7d328a9d-3af7-425f-ba17-44e5a3c2384a"
      },
      "execution_count": null,
      "outputs": [
        {
          "output_type": "stream",
          "name": "stdout",
          "text": [
            "Unigram: [('the',), ('quick',), ('brown',), ('fox',), ('jumps',), ('over',), ('the',), ('lazy',), ('dog',), ('.',), ('this',), ('is',), ('a',), ('sample',), ('text',), ('corpus',), ('for',), ('demonstration',), ('.',), ('it',), ('contains',), ('multiple',), ('sentences',), ('with',), ('different',), ('words',), ('.',)]\n"
          ]
        }
      ]
    },
    {
      "cell_type": "markdown",
      "source": [
        "### 2. Bigrams"
      ],
      "metadata": {
        "id": "-XdE6cP1w9dN"
      }
    },
    {
      "cell_type": "code",
      "source": [
        "bigram = list(ngrams(token, 2))\n",
        "print(\"Bigrams:\", list(bigram))"
      ],
      "metadata": {
        "colab": {
          "base_uri": "https://localhost:8080/"
        },
        "id": "zLg58KyZwyf_",
        "outputId": "57c83295-2e52-46b5-d4c4-6f4ddc8b8b57"
      },
      "execution_count": null,
      "outputs": [
        {
          "output_type": "stream",
          "name": "stdout",
          "text": [
            "Bigrams: [('the', 'quick'), ('quick', 'brown'), ('brown', 'fox'), ('fox', 'jumps'), ('jumps', 'over'), ('over', 'the'), ('the', 'lazy'), ('lazy', 'dog'), ('dog', '.'), ('.', 'this'), ('this', 'is'), ('is', 'a'), ('a', 'sample'), ('sample', 'text'), ('text', 'corpus'), ('corpus', 'for'), ('for', 'demonstration'), ('demonstration', '.'), ('.', 'it'), ('it', 'contains'), ('contains', 'multiple'), ('multiple', 'sentences'), ('sentences', 'with'), ('with', 'different'), ('different', 'words'), ('words', '.')]\n"
          ]
        }
      ]
    },
    {
      "cell_type": "markdown",
      "source": [
        "### 3. Trigrams"
      ],
      "metadata": {
        "id": "EZSU3eF9xGZl"
      }
    },
    {
      "cell_type": "code",
      "source": [
        "trigram = list(ngrams(token, 3))\n",
        "print(\"Trigram:\", list(trigram))\n"
      ],
      "metadata": {
        "colab": {
          "base_uri": "https://localhost:8080/"
        },
        "id": "4gIQif4Zw0_c",
        "outputId": "b63e28a9-eda6-412f-e852-29ab2c512f90"
      },
      "execution_count": null,
      "outputs": [
        {
          "output_type": "stream",
          "name": "stdout",
          "text": [
            "Trigram: [('the', 'quick', 'brown'), ('quick', 'brown', 'fox'), ('brown', 'fox', 'jumps'), ('fox', 'jumps', 'over'), ('jumps', 'over', 'the'), ('over', 'the', 'lazy'), ('the', 'lazy', 'dog'), ('lazy', 'dog', '.'), ('dog', '.', 'this'), ('.', 'this', 'is'), ('this', 'is', 'a'), ('is', 'a', 'sample'), ('a', 'sample', 'text'), ('sample', 'text', 'corpus'), ('text', 'corpus', 'for'), ('corpus', 'for', 'demonstration'), ('for', 'demonstration', '.'), ('demonstration', '.', 'it'), ('.', 'it', 'contains'), ('it', 'contains', 'multiple'), ('contains', 'multiple', 'sentences'), ('multiple', 'sentences', 'with'), ('sentences', 'with', 'different'), ('with', 'different', 'words'), ('different', 'words', '.')]\n"
          ]
        }
      ]
    },
    {
      "cell_type": "markdown",
      "source": [
        "### 4. Bigram Probabilities"
      ],
      "metadata": {
        "id": "rELc-Jam0Ba7"
      }
    },
    {
      "cell_type": "code",
      "source": [
        "b_count = Counter(bigram)\n",
        "total = len(bigram)\n",
        "b_probs = {}\n",
        "\n",
        "for bi, count in b_count.items():\n",
        "    f= bi[0]\n",
        "    prob = count / token.count(f)\n",
        "    b_probs[bi] = prob\n",
        "\n",
        "print(\"\\nBigram Probabilities:\")\n",
        "for b, prob in b_probs.items():\n",
        "    print(b, \":\", prob)"
      ],
      "metadata": {
        "colab": {
          "base_uri": "https://localhost:8080/"
        },
        "id": "J6Ud0tDewQtq",
        "outputId": "9f890021-fe2e-4cbc-c5f0-da440ec69790"
      },
      "execution_count": null,
      "outputs": [
        {
          "output_type": "stream",
          "name": "stdout",
          "text": [
            "\n",
            "Bigram Probabilities:\n",
            "('the', 'quick') : 0.5\n",
            "('quick', 'brown') : 1.0\n",
            "('brown', 'fox') : 1.0\n",
            "('fox', 'jumps') : 1.0\n",
            "('jumps', 'over') : 1.0\n",
            "('over', 'the') : 1.0\n",
            "('the', 'lazy') : 0.5\n",
            "('lazy', 'dog') : 1.0\n",
            "('dog', '.') : 1.0\n",
            "('.', 'this') : 0.3333333333333333\n",
            "('this', 'is') : 1.0\n",
            "('is', 'a') : 1.0\n",
            "('a', 'sample') : 1.0\n",
            "('sample', 'text') : 1.0\n",
            "('text', 'corpus') : 1.0\n",
            "('corpus', 'for') : 1.0\n",
            "('for', 'demonstration') : 1.0\n",
            "('demonstration', '.') : 1.0\n",
            "('.', 'it') : 0.3333333333333333\n",
            "('it', 'contains') : 1.0\n",
            "('contains', 'multiple') : 1.0\n",
            "('multiple', 'sentences') : 1.0\n",
            "('sentences', 'with') : 1.0\n",
            "('with', 'different') : 1.0\n",
            "('different', 'words') : 1.0\n",
            "('words', '.') : 1.0\n"
          ]
        }
      ]
    },
    {
      "cell_type": "markdown",
      "source": [
        "### 5. Next Word Prediction"
      ],
      "metadata": {
        "id": "j8DAXJFe0ETG"
      }
    },
    {
      "cell_type": "code",
      "source": [
        "def next_word(prev_word, top_n=3):\n",
        "  psb= [b for b in b_count.keys() if b[0] == prev_word]\n",
        "  sorted_bs = sorted(psb, key=lambda b: b_probs[b], reverse=True)\n",
        "  return [b[1] for b in sorted_bs[:top_n]]\n",
        "prev_word = input(\"Enter the previous word: \").strip()\n",
        "pdt_word = next_word(prev_word)\n",
        "print(\"Next word prediction for '{}': {}\".format(prev_word, pdt_word))\n"
      ],
      "metadata": {
        "colab": {
          "base_uri": "https://localhost:8080/"
        },
        "id": "JYKdzShkwX3S",
        "outputId": "837d4d1d-caea-4d63-b4dc-2f83aa64c4a0"
      },
      "execution_count": null,
      "outputs": [
        {
          "output_type": "stream",
          "name": "stdout",
          "text": [
            "Enter the previous word: the\n",
            "Next word prediction for 'the': ['quick', 'lazy']\n"
          ]
        }
      ]
    },
    {
      "cell_type": "code",
      "source": [],
      "metadata": {
        "id": "0FttGuE402Kz"
      },
      "execution_count": null,
      "outputs": []
    }
  ]
}